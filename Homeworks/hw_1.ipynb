{
 "cells": [
  {
   "cell_type": "markdown",
   "id": "745328dd",
   "metadata": {},
   "source": [
    "# CSCI 5897 Homwork 1\n",
    "## Anya lee"
   ]
  },
  {
   "cell_type": "code",
   "execution_count": null,
   "id": "b038e352",
   "metadata": {
    "vscode": {
     "languageId": "plaintext"
    }
   },
   "outputs": [],
   "source": []
  },
  {
   "cell_type": "code",
   "execution_count": null,
   "id": "ea454944",
   "metadata": {
    "vscode": {
     "languageId": "plaintext"
    }
   },
   "outputs": [],
   "source": []
  }
 ],
 "metadata": {
  "language_info": {
   "name": "python"
  }
 },
 "nbformat": 4,
 "nbformat_minor": 5
}
