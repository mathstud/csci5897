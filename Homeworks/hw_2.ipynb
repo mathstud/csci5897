{
 "cells": [
  {
   "cell_type": "markdown",
   "id": "6ea2e1ad",
   "metadata": {},
   "source": [
    "# CSCI 5897 Homework 2\n",
    "### Anya Lee"
   ]
  },
  {
   "cell_type": "markdown",
   "id": "9aa4b27e",
   "metadata": {},
   "source": [
    "### **Problem 1**\n",
    "\n",
    "The goal of this problem is to develop flexibility with your Forward Euler code, and to learn a bit about the effect of step size on the accuracy of the solution.\n",
    "\t\n",
    "a. Using your Forward Euler method, simulate the solution to the {\\it normalized} SIS model discussed in class (Week 3) using $\\beta=3$ and $\\gamma=2$, and with $(s_0, i_0) = (0.99, 0.01)$. Create three plots ranging from $t=0$ to $t=25$. On the first, simulate using a step size $\\Delta t=2$. On the second, use $\\Delta t =1$. On the third, use $\\Delta t = \\tfrac{1}{2}$. In each plot, show only your solution's $I(t)$ in a red solid line, labeled as \"Forward Euler\", and then also plot the analytical solution from class in a black dashed line, labeled as \"Analytical.\" Please also set the y-axis range to $[0,0.5]$. \n",
    "\n",
    "b. Comment on what you see in your three plots. How does the step size affect our solution?\n",
    "\n",
    "c. Define the maximum absolute error for a simulation using a particular $\\Delta t$ as $$E(\\Delta t) = \\max_{t} \\big | I_{\\text{Euler}, \\Delta t} (t) - I_\\text{analytical}(t) \\big |\\ .$$ Write a function that runs the appropriate simulation, computes the analytical solution, and returns $E$ without plotting. Share a link to your code for this problem.\n",
    "\n",
    "d. Create a plot on log-log axes showing $E(\\Delta t)$ vs $\\Delta t$ for values $$\\Delta t \\in \\{2,1,\\tfrac{1}{2},\\tfrac{1}{4},\\tfrac{1}{8},\\tfrac{1}{16},\\tfrac{1}{32}\\}$$\n",
    "\n",
    "e. Comment on what you observe in this plot, and comment on cases when you would want a larger or smaller step size, and why? Imagining yourself in an advisory position in your community, can you think of any scenario where there is a connection between the step size of your simulation and the ethics of your advice?"
   ]
  },
  {
   "cell_type": "markdown",
   "id": "ae2ae071",
   "metadata": {},
   "source": [
    "### **Problem 2**\n",
    "\n",
    "The goal of this problem is to get you thinking about the constraints on population contact structure and contact matrices, as well as sensitivity analyses.\n",
    "\t\n",
    "a. As one who is interested in modeling disease transmission on college campuses, you hire two teams to measure contact patterns on a nearby campus. The first team, led by Dan Pemic, tells you that there are $200$ faculty and $1800$ students, with a contact matrix of \n",
    "\t$$C_\\text{Pemic} = \\begin{pmatrix}\n",
    "\t\t3.1 & 43.5 \\\\\n",
    "\t\t4.7 & 25.0\n",
    "\t\\end{pmatrix}$$\n",
    "\n",
    "The second team, led by Flynn Uenza, tells you that there are $210$ faculty and $1750$ students, with a contact matrix of\n",
    "\t$$C_\\text{Uenza} = \\begin{pmatrix}\n",
    "\t\t3.0 & 44.5 \\\\\n",
    "\t\t4.8 & 25.1\n",
    "\t\t\\end{pmatrix}\n",
    "\t$$\n",
    "Whom do you trust more, Dan Pemic or Flynn Uenza? To answer this question, consider the self-consistency (or lack thereof) of each dataset. Explain your reasoning in words and include any calculations used to arrive at your conclusions. \n",
    "\n",
    "b. A straightforward fix to self-consistency issues is to \"symmetrize\" the rates. First, we compute the implied total number of intergroup contacts from faculty to students, and then compute the same from students to faculty. After averaging those two counts, divide by the appropriate population size to get per-person rates. Use this approach to symmetrize the two contact matrices. \n",
    "\n",
    "c. How different are these two symmetrized matrices, really? Answer the question by computing the ratio of $R_0$ under Pemic's data to $R_0$ under Uenza's data, assuming SIR models with otherwise identical parameters."
   ]
  },
  {
   "cell_type": "markdown",
   "id": "90b4f8e3",
   "metadata": {},
   "source": [
    "### **Problem 3**\n",
    "\n",
    "(Grad / EC): The goal of this problem is to get you to think about additional flavors of models that build on the SIR model backbone, and practice writing down flow diagrams and systems of differential equations. For each of the following situations please (i) draw a flow diagram with the SIR backbone in black, (ii) include any modifications in a second color, and (iii) write out your differential equations using the same color scheme. \n",
    "\n",
    "a. Suppose that we want to model the possibility that the natural history of infection means that a person is infected {\\it but not infectious} before becoming infected-and-infectious. Let the typical {\\it latent} period---the time between exposure and infectiousness---last for $q$ days. Use the letter $E$ for this new compartment. Draw a flow diagram for the non-normalized system, and write a set of corresponding differential equations. \n",
    "\n",
    "b. Suppose that we want to model Hospitalization, with the following assumption: Infected folks either recover directly {\\it or} they are hospitalized first and then recover. Let the direct recovery rate be $\\gamma$, and suppose that there are 4 direct recoveries for every 1 hospitalization. Let the typical duration of a hospitalization be $\\delta$ days. Use the letter $h$ for the hospitalized compartment. Draw a flow diagram for the normalized system, and write a set of corresponding differential equations. You should assume that folks in the hospital do not come into contact with anyone else during their hospital stay.\n",
    "\n",
    "c. Suppose that we want to model an infectious disease that afflicts a growing population of bacteria, such that the infection follows an SIR model, the bacteria grow according to a logistic growth model with intrinsic growth rate $\\alpha$ and carrying capacity $K$. Let all bacteria reproduce, but suppose that susceptible and recovered bacteria produce susceptible progeny, while infected bacteria produce infected progeny. The carrying capacity is shared by all three bacteria. "
   ]
  },
  {
   "cell_type": "markdown",
   "id": "acc822e4",
   "metadata": {},
   "source": []
  }
 ],
 "metadata": {
  "language_info": {
   "name": "python"
  }
 },
 "nbformat": 4,
 "nbformat_minor": 5
}
